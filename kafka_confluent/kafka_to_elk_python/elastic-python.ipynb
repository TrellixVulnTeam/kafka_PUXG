{
 "cells": [
  {
   "cell_type": "markdown",
   "metadata": {},
   "source": [
    "## during the creation of index make sure you have created same index in kibana also lika test_index*"
   ]
  },
  {
   "cell_type": "code",
   "execution_count": null,
   "metadata": {},
   "outputs": [],
   "source": [
    "# !pip install elasticsearch\n",
    "# https://tryolabs.com/blog/2015/02/17/python-elasticsearch-first-steps\n",
    "# !pip install random-address"
   ]
  },
  {
   "cell_type": "code",
   "execution_count": null,
   "metadata": {},
   "outputs": [],
   "source": [
    "from elasticsearch import Elasticsearch\n",
    "from datetime import datetime"
   ]
  },
  {
   "cell_type": "code",
   "execution_count": null,
   "metadata": {},
   "outputs": [],
   "source": [
    "# es = Elasticsearch([{'host': \"localhost\", 'port':\"9200\"}])\n",
    "es = Elasticsearch(\n",
    "    ['localhost'],\n",
    "    http_auth=('elastic', 'changeme'),\n",
    "    scheme=\"http\",\n",
    "    port=9200,\n",
    ")"
   ]
  },
  {
   "cell_type": "code",
   "execution_count": null,
   "metadata": {},
   "outputs": [],
   "source": [
    "#create index\n",
    "doc = {\n",
    "    'author': 'kimchy',\n",
    "    'text': 'Elasticsearch: cool. bonsai cool.',\n",
    "    'timestamp': datetime.now(),\n",
    "}\n",
    "res = es.index(index=\"confluent_elk_consume\", id=1, document=doc)\n",
    "print(res)"
   ]
  },
  {
   "cell_type": "markdown",
   "metadata": {},
   "source": [
    "## instaert some fake data"
   ]
  },
  {
   "cell_type": "code",
   "execution_count": null,
   "metadata": {},
   "outputs": [],
   "source": [
    "import random_address\n",
    "from time import sleep\n",
    "def get_fake_add():\n",
    "    address=random_address.real_random_address_by_postal_code('32409')\n",
    "    return address\n",
    "\n",
    "# print(get_fake_add())\n",
    "while True:\n",
    "    res = es.index(index='confluent_elk_consume', body=get_fake_add())\n",
    "    print(res)\n",
    "    sleep(1)"
   ]
  },
  {
   "cell_type": "markdown",
   "metadata": {},
   "source": [
    "## insert data"
   ]
  },
  {
   "cell_type": "code",
   "execution_count": null,
   "metadata": {},
   "outputs": [],
   "source": [
    "data = [{\"balance\": \"$2,410.62\", \"age\": 40, \"name\": \"Bettie Buckner\", \"gender\": \"female\", \"company\": \"RODEOMAD\",\n",
    "         \"email\": \"bettiebuckner@rodeomad.com\", \"phone\": \"+1 (857) 491-2461\"},\n",
    "        {\"balance\": \"$1,143.56\", \"age\": 28, \"name\": \"Hanson Gates\", \"gender\": \"male\", \"company\": \"PEARLESSA\",\n",
    "         \"email\": \"hansongates@pearlessa.com\", \"phone\": \"+1 (825) 524-3896\"},\n",
    "        {\"balance\": \"$2,542.95\", \"age\": 20, \"name\": \"Audra Marshall\", \"gender\": \"female\", \"company\": \"COMTRAIL\",\n",
    "         \"email\": \"audramarshall@comtrail.com\", \"phone\": \"+1 (920) 569-2780\"},\n",
    "        {\"balance\": \"$2,235.86\", \"age\": 34, \"name\": \"Milagros Conrad\", \"gender\": \"female\", \"company\": \"IDEGO\",\n",
    "         \"email\": \"milagrosconrad@idego.com\", \"phone\": \"+1 (823) 451-2064\"},\n",
    "        {\"balance\": \"$2,606.95\", \"age\": 34, \"name\": \"Maureen Lopez\", \"gender\": \"female\", \"company\": \"EVENTEX\",\n",
    "         \"email\": \"maureenlopez@eventex.com\", \"phone\": \"+1 (913) 425-3716\"}]\n",
    "for a_data in data:\n",
    "    res = es.index(index='confluent_elk_consume',doc_type='people', body=a_data)\n",
    "    print(res)"
   ]
  },
  {
   "cell_type": "markdown",
   "metadata": {},
   "source": [
    "## search data"
   ]
  },
  {
   "cell_type": "code",
   "execution_count": null,
   "metadata": {},
   "outputs": [],
   "source": [
    "es.get(index='my-indexw', doc_type='people', id='OpfbJn0BMVE2KAgudxFz')"
   ]
  },
  {
   "cell_type": "code",
   "execution_count": null,
   "metadata": {},
   "outputs": [],
   "source": [
    "es.search(index='my-indexw', body={\"query\": {\"match\": {'name':'Darth Vader'}}})"
   ]
  },
  {
   "cell_type": "code",
   "execution_count": null,
   "metadata": {},
   "outputs": [],
   "source": []
  }
 ],
 "metadata": {
  "kernelspec": {
   "display_name": "Python 3",
   "language": "python",
   "name": "python3"
  },
  "language_info": {
   "codemirror_mode": {
    "name": "ipython",
    "version": 3
   },
   "file_extension": ".py",
   "mimetype": "text/x-python",
   "name": "python",
   "nbconvert_exporter": "python",
   "pygments_lexer": "ipython3",
   "version": "3.7.6"
  }
 },
 "nbformat": 4,
 "nbformat_minor": 4
}
