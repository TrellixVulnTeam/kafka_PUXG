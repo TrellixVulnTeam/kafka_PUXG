{
 "cells": [
  {
   "cell_type": "code",
   "execution_count": 1,
   "metadata": {},
   "outputs": [],
   "source": [
    "# !pip install elasticsearch\n",
    "# !pip install random-address\n",
    "# !pip install confluent-kafka\n",
    "from elasticsearch import Elasticsearch\n",
    "from datetime import datetime\n",
    "from confluent_kafka import Producer\n",
    "import json\n"
   ]
  },
  {
   "cell_type": "code",
   "execution_count": 2,
   "metadata": {},
   "outputs": [],
   "source": [
    "# ----------------producer----------------\n",
    "\n",
    "p = Producer({'bootstrap.servers': 'localhost:9092,localhost:9093'})\n"
   ]
  },
  {
   "cell_type": "code",
   "execution_count": 3,
   "metadata": {},
   "outputs": [],
   "source": [
    "# ------------------fake address-------------------------\n",
    "import random_address\n",
    "from time import sleep\n",
    "def get_fake_add():\n",
    "    address=random_address.real_random_address_by_postal_code('32409')\n",
    "    address=json.dumps(address)\n",
    "    address=str.encode(address)\n",
    "    return address\n",
    "    "
   ]
  },
  {
   "cell_type": "code",
   "execution_count": null,
   "metadata": {},
   "outputs": [],
   "source": [
    "for data in range(0,10000):\n",
    "    # Trigger any available delivery report callbacks from previous produce() calls\n",
    "    p.poll(0)\n",
    "\n",
    "    # Asynchronously produce a message, the delivery report callback\n",
    "    # will be triggered from poll() above, or flush() below, when the message has\n",
    "    # been successfully delivered or failed permanently.\n",
    "    p.produce('confluent_elk', get_fake_add())\n",
    "\n",
    "# Wait for any outstanding messages to be delivered and delivery report\n",
    "# callbacks to be triggered.\n",
    "p.flush()"
   ]
  },
  {
   "cell_type": "code",
   "execution_count": null,
   "metadata": {},
   "outputs": [],
   "source": []
  }
 ],
 "metadata": {
  "interpreter": {
   "hash": "e02caffd4c5d380ab259cbb2bc309246566eb69f31f96933d47d4d231b9e330c"
  },
  "kernelspec": {
   "display_name": "Python 3",
   "language": "python",
   "name": "python3"
  },
  "language_info": {
   "codemirror_mode": {
    "name": "ipython",
    "version": 3
   },
   "file_extension": ".py",
   "mimetype": "text/x-python",
   "name": "python",
   "nbconvert_exporter": "python",
   "pygments_lexer": "ipython3",
   "version": "3.7.6"
  }
 },
 "nbformat": 4,
 "nbformat_minor": 4
}
