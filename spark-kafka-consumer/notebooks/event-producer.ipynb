{
 "cells": [
  {
   "cell_type": "markdown",
   "metadata": {},
   "source": [
    "# Install Libraries"
   ]
  },
  {
   "cell_type": "code",
   "execution_count": null,
   "metadata": {},
   "outputs": [],
   "source": [
    "# !pip install sseclient"
   ]
  },
  {
   "cell_type": "code",
   "execution_count": null,
   "metadata": {},
   "outputs": [],
   "source": [
    "# !pip install kafka-python"
   ]
  },
  {
   "cell_type": "markdown",
   "metadata": {},
   "source": [
    "# Event producer"
   ]
  },
  {
   "cell_type": "code",
   "execution_count": null,
   "metadata": {},
   "outputs": [],
   "source": [
    "import json\n",
    "import pprint\n",
    "import sseclient\n",
    "from kafka import KafkaConsumer, KafkaProducer\n",
    "\n",
    "\n",
    "TOPIC_NAME = \"wikichange\"\n",
    "KAFKA_SERVER = \"localhost:9092\"\n",
    "\n",
    "producer = KafkaProducer(\n",
    "    bootstrap_servers = KAFKA_SERVER,\n",
    "    api_version = (0, 11, 15)\n",
    ")\n",
    "\n",
    "try:\n",
    "    def with_urllib3(url, headers):\n",
    "        \"\"\"Get a streaming response for the given event feed using urllib3.\"\"\"\n",
    "        import urllib3\n",
    "        http = urllib3.PoolManager()\n",
    "        return http.request('GET', url, preload_content=False, headers=headers)\n",
    "\n",
    "    def with_requests(url, headers):\n",
    "        \"\"\"Get a streaming response for the given event feed using requests.\"\"\"\n",
    "        import requests\n",
    "        return requests.get(url, stream=True, headers=headers)\n",
    "\n",
    "    url = 'https://stream.wikimedia.org/v2/stream/recentchange'\n",
    "    headers = {'Accept': 'text/event-stream'}\n",
    "    response = with_urllib3(url, headers)  # or with_requests(url, headers)\n",
    "    client = sseclient.SSEClient(response)\n",
    "    for event in client.events():\n",
    "        json_payload=event.data\n",
    "        print(event)\n",
    "\n",
    "        # send stream data to kafka\n",
    "        json_payload = str.encode(json_payload)\n",
    "        producer.send(TOPIC_NAME, json_payload)\n",
    "        producer.flush()\n",
    "except Exception as e:\n",
    "    print(e)\n",
    "    pass"
   ]
  },
  {
   "cell_type": "code",
   "execution_count": null,
   "metadata": {},
   "outputs": [],
   "source": []
  }
 ],
 "metadata": {
  "kernelspec": {
   "display_name": "Python 3",
   "language": "python",
   "name": "python3"
  },
  "language_info": {
   "codemirror_mode": {
    "name": "ipython",
    "version": 3
   },
   "file_extension": ".py",
   "mimetype": "text/x-python",
   "name": "python",
   "nbconvert_exporter": "python",
   "pygments_lexer": "ipython3",
   "version": "3.7.6"
  }
 },
 "nbformat": 4,
 "nbformat_minor": 4
}
