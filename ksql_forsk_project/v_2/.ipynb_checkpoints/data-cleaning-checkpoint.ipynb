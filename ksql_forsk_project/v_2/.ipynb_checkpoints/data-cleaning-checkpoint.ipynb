{
 "cells": [
  {
   "cell_type": "code",
   "execution_count": 11,
   "metadata": {},
   "outputs": [
    {
     "name": "stdout",
     "output_type": "stream",
     "text": [
      "(7325, 'Incoming', 'gr-0001005437', 'cb-0001005437-1@voip.evolveip.net', None, None, '2019-06-21', '2019-06-21 19:00:18.000000', '2019-06-21 19:56:53.000000', 56.0)\n",
      "(6010, 'Incoming', 'gr-0001005437', 'hpiuma@eip.local', 'Primary Device', 'PolycomVVX-VVX_400-UA/5.4.7.1696_0004f285886e', '2019-06-21', '2019-06-21 16:05:15.000000', '2019-06-21 16:10:37.000000', 5.0)\n",
      "(7641, 'Outgoing', 'gr-0001005437', 'hg-0001005437-1@voip.evolveip.net', None, None, '2019-06-21', '2019-06-21 21:20:17.000000', '2019-06-21 21:20:44.000000', 0.0)\n",
      "(3363, 'Incoming', 'gr-0001005437', '6102637447@voip.evolveip.net', 'Primary Device', 'PolycomVVX-VVX_400-UA/5.4.7.1696_0004f280bfb3', '2019-06-20', '2019-06-20 19:19:54.000000', '2019-06-20 19:30:27.000000', 10.0)\n",
      "(3112, 'Incoming', 'gr-0001011041', '5127176513@voip.evolveip.net', None, None, '2019-06-20', '2019-06-20 19:01:54.000000', '2019-06-20 19:02:36.000000', 0.0)\n",
      "(1721, 'Outgoing', 'gr-0001005437', 'hg-0001005437-6@voip.evolveip.net', None, None, '2019-06-20', '2019-06-20 15:47:41.000000', '2019-06-20 15:48:11.000000', 0.0)\n",
      "(5903, 'Outgoing', 'gr-0001005437', 'bedwards@eip.local', 'Primary Device', 'Yealink SIP-T48S 66.81.193.131', '2019-06-21', '2019-06-21 15:53:13.000000', '2019-06-21 15:53:34.000000', 0.0)\n"
     ]
    }
   ],
   "source": [
    "import sqlite3\n",
    "con = sqlite3.connect('telecom.db')\n",
    "cur = con.cursor()\n",
    "\n",
    "for row in cur.execute('SELECT * FROM device_dataset_mysql'):\n",
    "    print(row)"
   ]
  },
  {
   "cell_type": "code",
   "execution_count": null,
   "metadata": {},
   "outputs": [],
   "source": []
  },
  {
   "cell_type": "code",
   "execution_count": null,
   "metadata": {},
   "outputs": [],
   "source": [
    "(7641, 'Outgoing', 'gr-0001005437', 'hg-0001005437-1@voip.evolveip.net', \n",
    " None, None,\n",
    " '2019-06-21',\n",
    " '2019-06-21 21:20:17.000000',\n",
    " '2019-06-21 21:20:44.000000',\n",
    " 0.0)\n"
   ]
  },
  {
   "cell_type": "code",
   "execution_count": null,
   "metadata": {},
   "outputs": [],
   "source": [
    "{\n",
    "  \"INDEXB\": 7641,\n",
    "  \"INDEXA\": 7641,\n",
    "  \"CALL_DIRECTION\": \"Outgoing\",\n",
    "  \"USER_ID\": \"hg-0001005437-1@voip.evolveip.net\",\n",
    "  \"GROUP_ID\": \"gr-0001005437\",\n",
    "  \"USERDEVICETYPE\": null,\n",
    "  \"USAGEDEVICETYPE\": null,\n",
    "  \"DATE_TIME_COLUMN_AM_PM_TIME\": \"9:20:16\",\n",
    "  \"DATE_TIME_COLUMN_START_CALL_TIME\": \"21:20:16\",\n",
    "  \"DATE_TIME_COLUMN_START_CALL_DATE\": \"2019-06-21\",\n",
    "  \"DATE_TIME_COLUMN_END_CALL_TIME\": \"21:20:43\",\n",
    "  \"DATE_TIME_COLUMN_END_CALL_DATE\": \"2019-06-21\",\n",
    "  \"DATE_TIME_COLUMN_WEEKLY_RANGE\": \"Fri\",\n",
    "  \"DATE_TIME_COLUMN_HOURLY_RANGE\": \"21:00-21:59\",\n",
    "  \"DATE_TIME_COLUMN_DURATION\": 0.45,\n",
    "  \"DATE_TIME_COLUMN_START_TIMESTAMP\": \"2019-06-21T21:20:16.000\",\n",
    "  \"DATE_TIME_COLUMN_END_TIMESTAMP\": \"2019-06-21T21:20:43.000\",\n",
    "  \"DATE_TIME_COLUMN_INDEX\": 7641\n",
    "}"
   ]
  },
  {
   "cell_type": "code",
   "execution_count": null,
   "metadata": {},
   "outputs": [],
   "source": []
  },
  {
   "cell_type": "code",
   "execution_count": null,
   "metadata": {},
   "outputs": [],
   "source": []
  },
  {
   "cell_type": "code",
   "execution_count": null,
   "metadata": {},
   "outputs": [],
   "source": []
  },
  {
   "cell_type": "code",
   "execution_count": null,
   "metadata": {},
   "outputs": [],
   "source": []
  },
  {
   "cell_type": "code",
   "execution_count": null,
   "metadata": {},
   "outputs": [],
   "source": []
  }
 ],
 "metadata": {
  "kernelspec": {
   "display_name": "Python 3",
   "language": "python",
   "name": "python3"
  },
  "language_info": {
   "codemirror_mode": {
    "name": "ipython",
    "version": 3
   },
   "file_extension": ".py",
   "mimetype": "text/x-python",
   "name": "python",
   "nbconvert_exporter": "python",
   "pygments_lexer": "ipython3",
   "version": "3.7.6"
  }
 },
 "nbformat": 4,
 "nbformat_minor": 4
}
