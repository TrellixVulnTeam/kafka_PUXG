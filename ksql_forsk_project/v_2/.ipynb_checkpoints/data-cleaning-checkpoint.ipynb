{
 "cells": [
  {
   "cell_type": "code",
   "execution_count": 7,
   "metadata": {},
   "outputs": [
    {
     "name": "stdout",
     "output_type": "stream",
     "text": [
      "(14178, 13303153919, 'Outgoing', 16, 'gr-0001009643', 'Primary Device', None, 'Primary Device', 'PolycomSoundPointIP-SPIP_450-UA/4.0.2.11532_0004f24181fc', '2019-06-25', '2019-06-25 14:30:22.000000', '2019-06-25 14:31:41.000000', 1.0, '14:00 - 14:59', 'Tuesday')\n",
      "(2733, 15127130160, 'Incoming', 16, 'gr-0001011041', 'Primary Device', None, 'Primary Device', 'PolycomVVX-VVX_400-UA/5.4.7.1696_0004f282b3c8', '2019-06-20', '2019-06-20 18:09:21.000000', '2019-06-20 18:21:06.000000', 11.0, '18:00 - 18:59', 'Thursday')\n"
     ]
    }
   ],
   "source": [
    "import sqlite3\n",
    "con = sqlite3.connect('telecom.db')\n",
    "cur = con.cursor()\n",
    "\n",
    "for row in cur.execute('SELECT * FROM call_dataset_mysql'):\n",
    "    print(row)"
   ]
  },
  {
   "cell_type": "code",
   "execution_count": null,
   "metadata": {},
   "outputs": [],
   "source": [
    "(2733, \n",
    " 15127130160,\n",
    " 'Incoming',\n",
    " 16, \n",
    " 'gr-0001011041', \n",
    " 'Primary Device', \n",
    " None, \n",
    " 'Primary Device',\n",
    " 'PolycomVVX-VVX_400-UA/5.4.7.1696_0004f282b3c8', \n",
    " '2019-06-20',\n",
    " '2019-06-20 18:09:21.000000',\n",
    " '2019-06-20 18:21:06.000000', \n",
    " 11.0,\n",
    " '18:00 - 18:59', \n",
    " 'Thursday'\n",
    ")\n",
    "\n"
   ]
  },
  {
   "cell_type": "code",
   "execution_count": null,
   "metadata": {},
   "outputs": [],
   "source": [
    "{\n",
    "  \"INDEXB\": 2733,\n",
    "  \"INDEXA\": 2733,\n",
    "  \"GROUPS\": 15127130160,\n",
    "  \"MISSES_CALL\": 16,\n",
    "  \"GROUP_ID\": \"gr-0001011041\",\n",
    "  \"USER_ID\": \"5127176523@voip.evolveip.net\",\n",
    "  \"USERDEVICETYPE\": \"PolycomVVX-VVX_400-UA/5.4.7.1696_0004f282b3c8\",\n",
    "  \"CALL_DIRECTION\": \"Incoming\",\n",
    "  \"FEATURES\": \"Primary Device\",\n",
    "  \"VPDIALINGFACRESULT\": null,\n",
    "  \"USAGEDEVICETYPE\": \"Primary Device\",\n",
    "  \"DATE_TIME_COLUMN_AM_PM_TIME\": \"6:09:21\",\n",
    "  \"DATE_TIME_COLUMN_START_CALL_TIME\": \"18:09:21\",\n",
    "  \"DATE_TIME_COLUMN_START_CALL_DATE\": \"2019-06-20\",\n",
    "  \"DATE_TIME_COLUMN_END_CALL_TIME\": \"18:21:05\",\n",
    "  \"DATE_TIME_COLUMN_END_CALL_DATE\": \"2019-06-20\",\n",
    "  \"DATE_TIME_COLUMN_WEEKLY_RANGE\": \"Thu\",\n",
    "  \"DATE_TIME_COLUMN_HOURLY_RANGE\": \"18:00-18:59\",\n",
    "  \"DATE_TIME_COLUMN_DURATION\": 11.733333333333333,\n",
    "  \"DATE_TIME_COLUMN_START_TIMESTAMP\": \"2019-06-20T18:09:21.000\",\n",
    "  \"DATE_TIME_COLUMN_END_TIMESTAMP\": \"2019-06-20T18:21:05.000\",\n",
    "  \"DATE_TIME_COLUMN_INDEX\": 2733\n",
    "}"
   ]
  }
 ],
 "metadata": {
  "kernelspec": {
   "display_name": "Python 3",
   "language": "python",
   "name": "python3"
  },
  "language_info": {
   "codemirror_mode": {
    "name": "ipython",
    "version": 3
   },
   "file_extension": ".py",
   "mimetype": "text/x-python",
   "name": "python",
   "nbconvert_exporter": "python",
   "pygments_lexer": "ipython3",
   "version": "3.7.6"
  }
 },
 "nbformat": 4,
 "nbformat_minor": 4
}
