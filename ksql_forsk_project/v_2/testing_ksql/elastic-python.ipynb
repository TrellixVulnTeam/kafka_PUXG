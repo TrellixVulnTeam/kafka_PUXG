{
 "cells": [
  {
   "cell_type": "markdown",
   "metadata": {},
   "source": [
    "## during the creation of index make sure you have created same index in kibana also lika test_index*"
   ]
  },
  {
   "cell_type": "code",
   "execution_count": null,
   "metadata": {},
   "outputs": [],
   "source": [
    "# !pip install elasticsearch\n",
    "# https://tryolabs.com/blog/2015/02/17/python-elasticsearch-first-steps\n",
    "# !pip install random-address"
   ]
  },
  {
   "cell_type": "code",
   "execution_count": 4,
   "metadata": {},
   "outputs": [],
   "source": [
    "from elasticsearch import Elasticsearch\n",
    "from datetime import datetime"
   ]
  },
  {
   "cell_type": "code",
   "execution_count": 5,
   "metadata": {},
   "outputs": [],
   "source": [
    "# es = Elasticsearch([{'host': \"localhost\", 'port':\"9200\"}])\n",
    "es = Elasticsearch(\n",
    "    ['localhost'],\n",
    "    http_auth=('elastic', 'changeme'),\n",
    "    scheme=\"http\",\n",
    "    port=9200,\n",
    ")"
   ]
  },
  {
   "cell_type": "code",
   "execution_count": null,
   "metadata": {},
   "outputs": [],
   "source": [
    "#create index\n",
    "doc = {\n",
    "    'author': 'kimchy',\n",
    "    'text': 'Elasticsearch: cool. bonsai cool.',\n",
    "    'timestamp': datetime.now(),\n",
    "}\n",
    "res = es.index(index=\"test-index\", id=1, document=doc)\n",
    "print(res)"
   ]
  },
  {
   "cell_type": "markdown",
   "metadata": {},
   "source": [
    "## instaert some fake data"
   ]
  },
  {
   "cell_type": "code",
   "execution_count": null,
   "metadata": {},
   "outputs": [],
   "source": [
    "import random_address\n",
    "from time import sleep\n",
    "def get_fake_add():\n",
    "    address=random_address.real_random_address_by_postal_code('32409')\n",
    "    return address\n",
    "\n",
    "# print(get_fake_add())\n",
    "while True:\n",
    "    res = es.index(index='my-indexw',doc_type='people', body=get_fake_add())\n",
    "    print(res)\n",
    "    sleep(1)"
   ]
  },
  {
   "cell_type": "markdown",
   "metadata": {},
   "source": [
    "## insert data"
   ]
  },
  {
   "cell_type": "code",
   "execution_count": null,
   "metadata": {},
   "outputs": [],
   "source": [
    "data = [{\"balance\": \"$2,410.62\", \"age\": 40, \"name\": \"Bettie Buckner\", \"gender\": \"female\", \"company\": \"RODEOMAD\",\n",
    "         \"email\": \"bettiebuckner@rodeomad.com\", \"phone\": \"+1 (857) 491-2461\"},\n",
    "        {\"balance\": \"$1,143.56\", \"age\": 28, \"name\": \"Hanson Gates\", \"gender\": \"male\", \"company\": \"PEARLESSA\",\n",
    "         \"email\": \"hansongates@pearlessa.com\", \"phone\": \"+1 (825) 524-3896\"},\n",
    "        {\"balance\": \"$2,542.95\", \"age\": 20, \"name\": \"Audra Marshall\", \"gender\": \"female\", \"company\": \"COMTRAIL\",\n",
    "         \"email\": \"audramarshall@comtrail.com\", \"phone\": \"+1 (920) 569-2780\"},\n",
    "        {\"balance\": \"$2,235.86\", \"age\": 34, \"name\": \"Milagros Conrad\", \"gender\": \"female\", \"company\": \"IDEGO\",\n",
    "         \"email\": \"milagrosconrad@idego.com\", \"phone\": \"+1 (823) 451-2064\"},\n",
    "        {\"balance\": \"$2,606.95\", \"age\": 34, \"name\": \"Maureen Lopez\", \"gender\": \"female\", \"company\": \"EVENTEX\",\n",
    "         \"email\": \"maureenlopez@eventex.com\", \"phone\": \"+1 (913) 425-3716\"}]\n",
    "for a_data in data:\n",
    "    res = es.index(index='my-indexw',doc_type='people', body=a_data)\n",
    "    print(res)"
   ]
  },
  {
   "cell_type": "markdown",
   "metadata": {},
   "source": [
    "## search data"
   ]
  },
  {
   "cell_type": "code",
   "execution_count": null,
   "metadata": {},
   "outputs": [],
   "source": []
  },
  {
   "cell_type": "code",
   "execution_count": null,
   "metadata": {},
   "outputs": [],
   "source": [
    "res = es.search(index=\"service_datasets\", query={\"match_all\": {}})\n",
    "for data in res['hits']['hits']:\n",
    "    print(data['_source']['USER_ID'])\n"
   ]
  },
  {
   "cell_type": "markdown",
   "metadata": {},
   "source": [
    "## delete index"
   ]
  },
  {
   "cell_type": "code",
   "execution_count": 6,
   "metadata": {},
   "outputs": [],
   "source": [
    "for index_ in ['device_datasets','call_datasets','service_datasets']:\n",
    "    es.indices.delete(index=index_, ignore=[400, 404])"
   ]
  },
  {
   "cell_type": "code",
   "execution_count": null,
   "metadata": {},
   "outputs": [],
   "source": []
  },
  {
   "cell_type": "markdown",
   "metadata": {},
   "source": [
    "## querying record\n",
    "    https://towardsdatascience.com/getting-started-with-elasticsearch-in-python-c3598e718380"
   ]
  },
  {
   "cell_type": "code",
   "execution_count": 45,
   "metadata": {},
   "outputs": [],
   "source": [
    "import json\n",
    "def search(es_object, index_name, search):\n",
    "    res = es_object.search(index=index_name, body=search)\n",
    "    print(res)"
   ]
  },
  {
   "cell_type": "code",
   "execution_count": 46,
   "metadata": {},
   "outputs": [
    {
     "name": "stdout",
     "output_type": "stream",
     "text": [
      "{'took': 0, 'timed_out': False, '_shards': {'total': 1, 'successful': 1, 'skipped': 0, 'failed': 0}, 'hits': {'total': {'value': 0, 'relation': 'eq'}, 'max_score': None, 'hits': []}}\n"
     ]
    },
    {
     "name": "stderr",
     "output_type": "stream",
     "text": [
      "/home/rahul/anaconda3/lib/python3.7/site-packages/ipykernel_launcher.py:3: DeprecationWarning: The 'body' parameter is deprecated for the 'search' API and will be removed in a future version. Instead use API parameters directly. See https://github.com/elastic/elasticsearch-py/issues/1698 for more information\n",
      "  This is separate from the ipykernel package so we can avoid doing imports until\n"
     ]
    }
   ],
   "source": [
    "search_object = {'query': {'match': {'CALL_DIRECTION': 'Incoming'}}}\n",
    "search(es, 'service_datasets', json.dumps(search_object))"
   ]
  },
  {
   "cell_type": "code",
   "execution_count": 56,
   "metadata": {},
   "outputs": [
    {
     "name": "stdout",
     "output_type": "stream",
     "text": [
      "{'took': 1, 'timed_out': False, '_shards': {'total': 1, 'successful': 1, 'skipped': 0, 'failed': 0}, 'hits': {'total': {'value': 70, 'relation': 'eq'}, 'max_score': 0.15328693, 'hits': [{'_index': 'service_datasets', '_type': '_doc', '_id': 'SERVICE_DATASETS+0+0', '_score': 0.15328693, '_source': {'DATE_TIME_COLUMN_START_CALL_DATE': '2019-06-21', 'DATE_TIME_COLUMN_END_CALL_TIME': '17:52:12', 'DATE_TIME_COLUMN_START_TIMESTAMP': 1561139514000, 'DATE_TIME_COLUMN_HOURLY_RANGE': '17:00-17:59', 'FEATURENAME': None, 'USER_ID': '6102634123@voip.evolveip.net', 'DATE_TIME_COLUMN_END_TIMESTAMP': 1561139532000, 'GROUP_ID': 'gr-0001005437', 'DATE_TIME_COLUMN_AM_PM_TIME': '5:51:54', 'DATE_TIME_COLUMN_WEEKLY_RANGE': 'Fri', 'USERDEVICETYPE': None, 'INDEXA': 6562, 'DATE_TIME_COLUMN_INDEX': 6562, 'DATE_TIME_COLUMN_START_CALL_TIME': '17:51:54', 'DATE_TIME_COLUMN_END_CALL_DATE': '2019-06-21', 'DATE_TIME_COLUMN_DURATION': 0.3}}, {'_index': 'service_datasets', '_type': '_doc', '_id': 'SERVICE_DATASETS+0+1', '_score': 0.15328693, '_source': {'DATE_TIME_COLUMN_START_CALL_DATE': '2019-06-24', 'DATE_TIME_COLUMN_END_CALL_TIME': '18:25:51', 'DATE_TIME_COLUMN_START_TIMESTAMP': 1561397508000, 'DATE_TIME_COLUMN_HOURLY_RANGE': '17:00-17:59', 'FEATURENAME': None, 'USER_ID': 'gr-0001005437-Default@voip.evolveip.net', 'DATE_TIME_COLUMN_END_TIMESTAMP': 1561400751000, 'GROUP_ID': 'gr-0001005437', 'DATE_TIME_COLUMN_AM_PM_TIME': '5:31:48', 'DATE_TIME_COLUMN_WEEKLY_RANGE': 'Mon', 'USERDEVICETYPE': None, 'INDEXA': 11316, 'DATE_TIME_COLUMN_INDEX': 11316, 'DATE_TIME_COLUMN_START_CALL_TIME': '17:31:48', 'DATE_TIME_COLUMN_END_CALL_DATE': '2019-06-24', 'DATE_TIME_COLUMN_DURATION': 54.05}}, {'_index': 'service_datasets', '_type': '_doc', '_id': 'SERVICE_DATASETS+0+2', '_score': 0.15328693, '_source': {'DATE_TIME_COLUMN_START_CALL_DATE': '2019-06-25', 'DATE_TIME_COLUMN_END_CALL_TIME': '12:19:00', 'DATE_TIME_COLUMN_START_TIMESTAMP': 1561465136000, 'DATE_TIME_COLUMN_HOURLY_RANGE': '12:00-12:59', 'FEATURENAME': 'Simultaneous Ring Personal', 'USER_ID': 'lcarnevali@eip.local', 'DATE_TIME_COLUMN_END_TIMESTAMP': 1561465140000, 'GROUP_ID': 'gr-0001005437', 'DATE_TIME_COLUMN_AM_PM_TIME': '12:18:56', 'DATE_TIME_COLUMN_WEEKLY_RANGE': 'Tue', 'USERDEVICETYPE': None, 'INDEXA': 13141, 'DATE_TIME_COLUMN_INDEX': 13141, 'DATE_TIME_COLUMN_START_CALL_TIME': '12:18:56', 'DATE_TIME_COLUMN_END_CALL_DATE': '2019-06-25', 'DATE_TIME_COLUMN_DURATION': 0.06666666666666667}}, {'_index': 'service_datasets', '_type': '_doc', '_id': 'SERVICE_DATASETS+0+3', '_score': 0.15328693, '_source': {'DATE_TIME_COLUMN_START_CALL_DATE': '2019-06-24', 'DATE_TIME_COLUMN_END_CALL_TIME': '15:05:30', 'DATE_TIME_COLUMN_START_TIMESTAMP': 1561388704000, 'DATE_TIME_COLUMN_HOURLY_RANGE': '15:00-15:59', 'FEATURENAME': 'Primary Device', 'USER_ID': '6102632982@voip.evolveip.net', 'DATE_TIME_COLUMN_END_TIMESTAMP': 1561388730000, 'GROUP_ID': 'gr-0001005437', 'DATE_TIME_COLUMN_AM_PM_TIME': '3:05:04', 'DATE_TIME_COLUMN_WEEKLY_RANGE': 'Mon', 'USERDEVICETYPE': 'PolycomVVX-VVX_500-UA/5.4.7.1696_0004f263c1c7', 'INDEXA': 9732, 'DATE_TIME_COLUMN_INDEX': 9732, 'DATE_TIME_COLUMN_START_CALL_TIME': '15:05:04', 'DATE_TIME_COLUMN_END_CALL_DATE': '2019-06-24', 'DATE_TIME_COLUMN_DURATION': 0.43333333333333335}}, {'_index': 'service_datasets', '_type': '_doc', '_id': 'SERVICE_DATASETS+0+4', '_score': 0.15328693, '_source': {'DATE_TIME_COLUMN_START_CALL_DATE': '2019-06-25', 'DATE_TIME_COLUMN_END_CALL_TIME': '19:10:42', 'DATE_TIME_COLUMN_START_TIMESTAMP': 1561489840000, 'DATE_TIME_COLUMN_HOURLY_RANGE': '19:00-19:59', 'FEATURENAME': 'Primary Device', 'USER_ID': 'bboyle@eip.local', 'DATE_TIME_COLUMN_END_TIMESTAMP': 1561489842000, 'GROUP_ID': 'gr-0001005437', 'DATE_TIME_COLUMN_AM_PM_TIME': '7:10:40', 'DATE_TIME_COLUMN_WEEKLY_RANGE': 'Tue', 'USERDEVICETYPE': 'PolycomSoundPointIP-SPIP_450-UA/4.0.2.11532_0004f22f2738', 'INDEXA': 16611, 'DATE_TIME_COLUMN_INDEX': 16611, 'DATE_TIME_COLUMN_START_CALL_TIME': '19:10:40', 'DATE_TIME_COLUMN_END_CALL_DATE': '2019-06-25', 'DATE_TIME_COLUMN_DURATION': 0.03333333333333333}}, {'_index': 'service_datasets', '_type': '_doc', '_id': 'SERVICE_DATASETS+0+5', '_score': 0.15328693, '_source': {'DATE_TIME_COLUMN_START_CALL_DATE': '2019-06-20', 'DATE_TIME_COLUMN_END_CALL_TIME': '20:42:12', 'DATE_TIME_COLUMN_START_TIMESTAMP': 1561062907000, 'DATE_TIME_COLUMN_HOURLY_RANGE': '20:00-20:59', 'FEATURENAME': 'Secondary Device', 'USER_ID': '6102637443@voip.evolveip.net', 'DATE_TIME_COLUMN_END_TIMESTAMP': 1561063332000, 'GROUP_ID': 'gr-0001005437', 'DATE_TIME_COLUMN_AM_PM_TIME': '8:35:07', 'DATE_TIME_COLUMN_WEEKLY_RANGE': 'Thu', 'USERDEVICETYPE': 'bc-uc - UC-One (22.2.0.1634 Windows 10)', 'INDEXA': 3985, 'DATE_TIME_COLUMN_INDEX': 3985, 'DATE_TIME_COLUMN_START_CALL_TIME': '20:35:07', 'DATE_TIME_COLUMN_END_CALL_DATE': '2019-06-20', 'DATE_TIME_COLUMN_DURATION': 7.083333333333333}}, {'_index': 'service_datasets', '_type': '_doc', '_id': 'SERVICE_DATASETS+0+6', '_score': 0.15328693, '_source': {'DATE_TIME_COLUMN_START_CALL_DATE': '2019-06-25', 'DATE_TIME_COLUMN_END_CALL_TIME': '17:16:03', 'DATE_TIME_COLUMN_START_TIMESTAMP': 1561482945000, 'DATE_TIME_COLUMN_HOURLY_RANGE': '17:00-17:59', 'FEATURENAME': 'Hunt Group', 'USER_ID': 'hg-0001005437-3@voip.evolveip.net', 'DATE_TIME_COLUMN_END_TIMESTAMP': 1561482963000, 'GROUP_ID': 'gr-0001005437', 'DATE_TIME_COLUMN_AM_PM_TIME': '5:15:45', 'DATE_TIME_COLUMN_WEEKLY_RANGE': 'Tue', 'USERDEVICETYPE': None, 'INDEXA': 15632, 'DATE_TIME_COLUMN_INDEX': 15632, 'DATE_TIME_COLUMN_START_CALL_TIME': '17:15:45', 'DATE_TIME_COLUMN_END_CALL_DATE': '2019-06-25', 'DATE_TIME_COLUMN_DURATION': 0.3}}, {'_index': 'service_datasets', '_type': '_doc', '_id': 'SERVICE_DATASETS+0+7', '_score': 0.15328693, '_source': {'DATE_TIME_COLUMN_START_CALL_DATE': '2019-06-24', 'DATE_TIME_COLUMN_END_CALL_TIME': '13:10:14', 'DATE_TIME_COLUMN_START_TIMESTAMP': 1561381288000, 'DATE_TIME_COLUMN_HOURLY_RANGE': '13:00-13:59', 'FEATURENAME': 'Secondary Device', 'USER_ID': 'bbur@eip.local', 'DATE_TIME_COLUMN_END_TIMESTAMP': 1561381814000, 'GROUP_ID': 'gr-0001005437', 'DATE_TIME_COLUMN_AM_PM_TIME': '1:01:28', 'DATE_TIME_COLUMN_WEEKLY_RANGE': 'Mon', 'USERDEVICETYPE': 'bc-uc - UC-One (22.6.3 iOS iPhone)', 'INDEXA': 8914, 'DATE_TIME_COLUMN_INDEX': 8914, 'DATE_TIME_COLUMN_START_CALL_TIME': '13:01:28', 'DATE_TIME_COLUMN_END_CALL_DATE': '2019-06-24', 'DATE_TIME_COLUMN_DURATION': 8.766666666666667}}, {'_index': 'service_datasets', '_type': '_doc', '_id': 'SERVICE_DATASETS+0+9', '_score': 0.15328693, '_source': {'DATE_TIME_COLUMN_START_CALL_DATE': '2019-06-24', 'DATE_TIME_COLUMN_END_CALL_TIME': '06:25:28', 'DATE_TIME_COLUMN_START_TIMESTAMP': 1561357528000, 'DATE_TIME_COLUMN_HOURLY_RANGE': '06:00-06:59', 'FEATURENAME': None, 'USER_ID': '6102634261@voip.evolveip.net', 'DATE_TIME_COLUMN_END_TIMESTAMP': 1561357528000, 'GROUP_ID': 'gr-0001005437', 'DATE_TIME_COLUMN_AM_PM_TIME': '06:25:28', 'DATE_TIME_COLUMN_WEEKLY_RANGE': 'Mon', 'USERDEVICETYPE': 'PolycomVVX-VVX_501-UA/5.7.1.2205_64167f092ef2', 'INDEXA': 8413, 'DATE_TIME_COLUMN_INDEX': 8413, 'DATE_TIME_COLUMN_START_CALL_TIME': '06:25:28', 'DATE_TIME_COLUMN_END_CALL_DATE': '2019-06-24', 'DATE_TIME_COLUMN_DURATION': 0.0}}, {'_index': 'service_datasets', '_type': '_doc', '_id': 'SERVICE_DATASETS+0+10', '_score': 0.15328693, '_source': {'DATE_TIME_COLUMN_START_CALL_DATE': '2019-06-25', 'DATE_TIME_COLUMN_END_CALL_TIME': '18:34:16', 'DATE_TIME_COLUMN_START_TIMESTAMP': 1561485726000, 'DATE_TIME_COLUMN_HOURLY_RANGE': '18:00-18:59', 'FEATURENAME': None, 'USER_ID': 'cb-0001005437-1@voip.evolveip.net', 'DATE_TIME_COLUMN_END_TIMESTAMP': 1561487656000, 'GROUP_ID': 'gr-0001005437', 'DATE_TIME_COLUMN_AM_PM_TIME': '6:02:06', 'DATE_TIME_COLUMN_WEEKLY_RANGE': 'Tue', 'USERDEVICETYPE': None, 'INDEXA': 16263, 'DATE_TIME_COLUMN_INDEX': 16263, 'DATE_TIME_COLUMN_START_CALL_TIME': '18:02:06', 'DATE_TIME_COLUMN_END_CALL_DATE': '2019-06-25', 'DATE_TIME_COLUMN_DURATION': 32.166666666666664}}]}}\n"
     ]
    },
    {
     "name": "stderr",
     "output_type": "stream",
     "text": [
      "/home/rahul/anaconda3/lib/python3.7/site-packages/ipykernel_launcher.py:3: DeprecationWarning: The 'body' parameter is deprecated for the 'search' API and will be removed in a future version. Instead use API parameters directly. See https://github.com/elastic/elasticsearch-py/issues/1698 for more information\n",
      "  This is separate from the ipykernel package so we can avoid doing imports until\n"
     ]
    }
   ],
   "source": [
    "body = {'query': {'bool': {'must': [{'match': {'GROUP_ID': 'gr-0001005437'}},\n",
    "                                 ]}}}\n",
    "res = es.search(index='service_datasets', body=body)\n",
    "print(res)"
   ]
  },
  {
   "cell_type": "code",
   "execution_count": null,
   "metadata": {},
   "outputs": [],
   "source": []
  }
 ],
 "metadata": {
  "kernelspec": {
   "display_name": "Python 3",
   "language": "python",
   "name": "python3"
  },
  "language_info": {
   "codemirror_mode": {
    "name": "ipython",
    "version": 3
   },
   "file_extension": ".py",
   "mimetype": "text/x-python",
   "name": "python",
   "nbconvert_exporter": "python",
   "pygments_lexer": "ipython3",
   "version": "3.7.6"
  }
 },
 "nbformat": 4,
 "nbformat_minor": 4
}
