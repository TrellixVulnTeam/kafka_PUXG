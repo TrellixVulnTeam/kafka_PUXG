{
 "cells": [
  {
   "cell_type": "code",
   "execution_count": 1,
   "metadata": {},
   "outputs": [],
   "source": [
    "import pandas as pd\n",
    "import numpy as np\n",
    "import re\n",
    "import datetime\n"
   ]
  },
  {
   "cell_type": "code",
   "execution_count": 12,
   "metadata": {},
   "outputs": [],
   "source": [
    "def datetime_divider(data):\n",
    "    # data type of data is list\n",
    "    # [\"20190620032717.906\"]\n",
    "    # return type will be list of list with date, time [[\"20190620\",\"032717\"]]\n",
    "    \n",
    "    for index in range(len(data)):\n",
    "        #find the string which starts with only digit\n",
    "        print(str(data[index]))\n",
    "        if re.match('\\d',str(data[index])):\n",
    "            regex = re.compile(\"\\d{1,8}\") \n",
    "            a = regex.findall(str(data[index]))\n",
    "            data[index] = [a[0],a[1]] #date and time\n",
    "            \n",
    "        else:\n",
    "            data[index] = [np.nan, np.nan]\n",
    "    \n",
    "    return data"
   ]
  },
  {
   "cell_type": "code",
   "execution_count": 13,
   "metadata": {},
   "outputs": [
    {
     "name": "stdout",
     "output_type": "stream",
     "text": [
      "20190620032717.9\n"
     ]
    },
    {
     "data": {
      "text/plain": [
       "[['20190620', '032717']]"
      ]
     },
     "execution_count": 13,
     "metadata": {},
     "output_type": "execute_result"
    }
   ],
   "source": [
    "datetime_divider(['20190620032717.9'])"
   ]
  },
  {
   "cell_type": "code",
   "execution_count": 16,
   "metadata": {},
   "outputs": [
    {
     "data": {
      "text/plain": [
       "'19700109'"
      ]
     },
     "execution_count": 16,
     "metadata": {},
     "output_type": "execute_result"
    }
   ],
   "source": [
    "import datetime as dt\n",
    "dt.date.fromtimestamp(733828.0).strftime('%Y%m%d')"
   ]
  },
  {
   "cell_type": "code",
   "execution_count": null,
   "metadata": {},
   "outputs": [],
   "source": []
  }
 ],
 "metadata": {
  "kernelspec": {
   "display_name": "Python 3",
   "language": "python",
   "name": "python3"
  },
  "language_info": {
   "codemirror_mode": {
    "name": "ipython",
    "version": 3
   },
   "file_extension": ".py",
   "mimetype": "text/x-python",
   "name": "python",
   "nbconvert_exporter": "python",
   "pygments_lexer": "ipython3",
   "version": "3.7.6"
  }
 },
 "nbformat": 4,
 "nbformat_minor": 4
}
